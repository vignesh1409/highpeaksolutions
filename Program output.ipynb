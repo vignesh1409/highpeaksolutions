{
 "cells": [
  {
   "cell_type": "code",
   "execution_count": 366,
   "metadata": {},
   "outputs": [],
   "source": [
    "f=open(\"sample_input.txt\",'r')\n"
   ]
  },
  {
   "cell_type": "code",
   "execution_count": 367,
   "metadata": {},
   "outputs": [],
   "source": [
    "output=open(\"sample_output.txt\",'w+')\n"
   ]
  },
  {
   "cell_type": "code",
   "execution_count": 368,
   "metadata": {},
   "outputs": [],
   "source": [
    "goodies={}"
   ]
  },
  {
   "cell_type": "code",
   "execution_count": 369,
   "metadata": {},
   "outputs": [],
   "source": [
    "out_list=[]"
   ]
  },
  {
   "cell_type": "code",
   "execution_count": 372,
   "metadata": {},
   "outputs": [
    {
     "name": "stdout",
     "output_type": "stream",
     "text": [
      "7980\n",
      "Fitbit Plus\n",
      "22349\n",
      "IPods\n",
      "999\n",
      "MI Band\n",
      "2799\n",
      "Cult Pass\n",
      "229900\n",
      "Macbook Pro\n",
      "11101\n",
      "Digital Camera\n",
      "9999\n",
      "Alexa\n",
      "2195\n",
      "Sandwich Toaster\n",
      "9800\n",
      "Microwave Oven\n",
      "4999\n",
      "Scale\n",
      "['4', '', '7980', '22349', '999', '2799', '229900', '11101', '9999', '2195', '9800', '4999']\n"
     ]
    }
   ],
   "source": [
    "for i in f:\n",
    "    reading=i.index(\":\")\n",
    "    print(i[reading+1:].strip())\n",
    "    print(i[:reading])\n",
    "    goodies[i[:reading]]=i[reading+1:].strip()\n",
    "price=list(goodies.values())\n",
    "print(price)\n",
    "\n",
    "    "
   ]
  },
  {
   "cell_type": "code",
   "execution_count": 373,
   "metadata": {},
   "outputs": [
    {
     "name": "stdout",
     "output_type": "stream",
     "text": [
      "{'Fitbit Plus': '7980', 'IPods': '22349', 'MI Band': '999', 'Cult Pass': '2799', 'Macbook Pro': '229900', 'Digital Camera': '11101', 'Alexa': '9999', 'Sandwich Toaster': '2195', 'Microwave Oven': '9800', 'Scale': '4999'}\n"
     ]
    }
   ],
   "source": [
    "goodies.pop('Goodies and Prices')\n",
    "goodies.pop('Number of employees')\n",
    "price.sort(reverse=True)\n",
    "print(goodies)"
   ]
  },
  {
   "cell_type": "code",
   "execution_count": 374,
   "metadata": {},
   "outputs": [
    {
     "name": "stdout",
     "output_type": "stream",
     "text": [
      "['9999', '999', '9800', '7980', '4999', '4', '2799', '229900', '22349', '2195', '11101', '']\n"
     ]
    },
    {
     "data": {
      "text/plain": [
       "'4'"
      ]
     },
     "execution_count": 374,
     "metadata": {},
     "output_type": "execute_result"
    }
   ],
   "source": [
    "print(price)\n",
    "price.pop(5)"
   ]
  },
  {
   "cell_type": "code",
   "execution_count": 375,
   "metadata": {},
   "outputs": [
    {
     "data": {
      "text/plain": [
       "''"
      ]
     },
     "execution_count": 375,
     "metadata": {},
     "output_type": "execute_result"
    }
   ],
   "source": [
    "price.pop()\n"
   ]
  },
  {
   "cell_type": "code",
   "execution_count": 376,
   "metadata": {},
   "outputs": [
    {
     "name": "stdout",
     "output_type": "stream",
     "text": [
      "Enter number of employeees:6\n"
     ]
    }
   ],
   "source": [
    "noofem=int(input(\"Enter number of employeees:\"))\n"
   ]
  },
  {
   "cell_type": "code",
   "execution_count": 377,
   "metadata": {},
   "outputs": [],
   "source": [
    "len_considered=(len(price)-noofem)"
   ]
  },
  {
   "cell_type": "code",
   "execution_count": 378,
   "metadata": {},
   "outputs": [
    {
     "name": "stdout",
     "output_type": "stream",
     "text": [
      "4\n"
     ]
    }
   ],
   "source": [
    "print(len_considered)"
   ]
  },
  {
   "cell_type": "code",
   "execution_count": 379,
   "metadata": {},
   "outputs": [],
   "source": [
    "for k in range(len_considered):\n",
    "    maxprice=int(price[k])\n",
    "    min_price=int(price[noofem+k])\n",
    "    if k==0:\n",
    "        diff=maxprice-min_price\n",
    "        idx_choosen=k\n",
    "    elif(maxprice-min_price)<diff:\n",
    "        diff=maxprice-min_price\n",
    "        idx_choosen=k"
   ]
  },
  {
   "cell_type": "code",
   "execution_count": 380,
   "metadata": {},
   "outputs": [],
   "source": [
    "cp=price[idx_choosen:noofem+idx_choosen]\n",
    "cp\n",
    "for m in range(0,len(cp)):\n",
    "    cp[m]=int(cp[m])"
   ]
  },
  {
   "cell_type": "code",
   "execution_count": 381,
   "metadata": {},
   "outputs": [],
   "source": [
    "diff=(max(cp)-min(cp))\n"
   ]
  },
  {
   "cell_type": "code",
   "execution_count": 382,
   "metadata": {},
   "outputs": [
    {
     "name": "stdout",
     "output_type": "stream",
     "text": [
      "diff 9000\n"
     ]
    }
   ],
   "source": [
    "print(\"diff\",diff)"
   ]
  },
  {
   "cell_type": "code",
   "execution_count": 383,
   "metadata": {},
   "outputs": [
    {
     "name": "stdout",
     "output_type": "stream",
     "text": [
      "dict_items([('Fitbit Plus', '7980'), ('IPods', '22349'), ('MI Band', '999'), ('Cult Pass', '2799'), ('Macbook Pro', '229900'), ('Digital Camera', '11101'), ('Alexa', '9999'), ('Sandwich Toaster', '2195'), ('Microwave Oven', '9800'), ('Scale', '4999')])\n"
     ]
    }
   ],
   "source": [
    "cnt=0\n",
    "print(goodies.items())\n"
   ]
  },
  {
   "cell_type": "code",
   "execution_count": 384,
   "metadata": {},
   "outputs": [
    {
     "name": "stdout",
     "output_type": "stream",
     "text": [
      "7980\n",
      "Fitbit Plus:7980\n",
      "22349\n",
      "999\n",
      "MI Band:999\n",
      "2799\n",
      "Cult Pass:2799\n",
      "229900\n",
      "11101\n",
      "9999\n",
      "Alexa:9999\n",
      "2195\n",
      "9800\n",
      "Microwave Oven:9800\n",
      "4999\n",
      "Scale:4999\n"
     ]
    },
    {
     "data": {
      "text/plain": [
       "84"
      ]
     },
     "execution_count": 384,
     "metadata": {},
     "output_type": "execute_result"
    }
   ],
   "source": [
    "for key,value in goodies.items():\n",
    "    price[cnt]\n",
    "    print(value)\n",
    "    if int(value) in cp and cnt<=noofem:\n",
    "        str1=key+\":\"+value\n",
    "        out_list.append(str1)\n",
    "        cnt+=1\n",
    "        print(str1)\n",
    "output.write(\"The goodies selected for distribution: \")\n",
    "output.write(\"\\n\")\n",
    "for l in out_list:\n",
    "    output.write(l)\n",
    "    output.write('\\n')\n",
    "output.write(\"And the differencebetween the chosen goodie with highest price and lowest price \" +str(diff))\n",
    "\n"
   ]
  },
  {
   "cell_type": "code",
   "execution_count": 385,
   "metadata": {},
   "outputs": [
    {
     "name": "stdout",
     "output_type": "stream",
     "text": [
      "['Fitbit Plus:7980', 'MI Band:999', 'Cult Pass:2799', 'Alexa:9999', 'Microwave Oven:9800', 'Scale:4999']\n"
     ]
    }
   ],
   "source": [
    "print(out_list)"
   ]
  },
  {
   "cell_type": "code",
   "execution_count": 386,
   "metadata": {},
   "outputs": [],
   "source": [
    "f.close()\n",
    "output.close()"
   ]
  },
  {
   "cell_type": "code",
   "execution_count": null,
   "metadata": {},
   "outputs": [],
   "source": []
  }
 ],
 "metadata": {
  "kernelspec": {
   "display_name": "Python 3",
   "language": "python",
   "name": "python3"
  },
  "language_info": {
   "codemirror_mode": {
    "name": "ipython",
    "version": 3
   },
   "file_extension": ".py",
   "mimetype": "text/x-python",
   "name": "python",
   "nbconvert_exporter": "python",
   "pygments_lexer": "ipython3",
   "version": "3.8.5"
  }
 },
 "nbformat": 4,
 "nbformat_minor": 4
}
